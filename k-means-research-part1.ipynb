{
 "cells": [
  {
   "cell_type": "code",
   "execution_count": 9,
   "metadata": {},
   "outputs": [],
   "source": [
    "import numpy as np\n",
    "from scipy.spatial.distance import euclidean\n",
    "\n",
    "cluster1 = np.random.uniform(0, 5, 100).reshape((-1, 2))\n",
    "cluster2 = np.random.uniform(5, 10, 100).reshape((-1, 2))\n",
    "cluster3 = np.random.uniform(10, 15, 100).reshape((-1, 2))\n",
    "\n",
    "objs = np.concatenate((cluster1, cluster2, cluster3))\n"
   ]
  },
  {
   "cell_type": "code",
   "execution_count": 10,
   "metadata": {
    "collapsed": false
   },
   "outputs": [],
   "source": [
    "def kmeans(objs, dimension, clusters_number, centers=None, distance_fun=euclidean):\n",
    "    if centers is None:\n",
    "        # avoid the situation when any cluster is empty\n",
    "        while True:\n",
    "            centers = np.random.uniform(np.min(objs), np.max(objs), clusters_number * dimension).reshape((-1, dimension))\n",
    "            clusters = split_clusters(objs, clusters_number, centers, distance_fun=distance_fun)\n",
    "            if all([len(cluster) > 0 for cluster in clusters]):\n",
    "                break\n",
    "    else:\n",
    "        clusters = split_clusters(objs, clusters_number, centers, distance_fun=distance_fun)\n",
    "\n",
    "    while True:\n",
    "        # clusters and centers are already initialized\n",
    "        new_centers = [np.mean(cluster, axis=0) for cluster in clusters]\n",
    "        if np.equal(centers, new_centers).all():\n",
    "            return centers, clusters\n",
    "        centers = new_centers\n",
    "        clusters = split_clusters(objs, clusters_number, centers, distance_fun=distance_fun)\n",
    "\n",
    "\n",
    "def split_clusters(objs, clusters_number, centers, distance_fun=euclidean):\n",
    "    clusters = [[] for i in range(clusters_number)]\n",
    "    for obj in objs:\n",
    "        distances = [distance_fun(center, obj) for center in centers]\n",
    "        clusters[np.argmin(distances)].append(obj)\n",
    "    return clusters\n"
   ]
  },
  {
   "cell_type": "code",
   "execution_count": 11,
   "metadata": {},
   "outputs": [
    {
     "name": "stdout",
     "output_type": "stream",
     "text": [
      "[ 12.58903336  12.31265332]\n[ 7.52752875  7.17835485]\n[ 2.14698725  2.36855705]\n\nCustom alg: 276.5290312149306\n"
     ]
    }
   ],
   "source": [
    "result_centers, result_clusters = kmeans(objs, 2, 3)\n",
    "errors = 0\n",
    "for index, result_center in enumerate(result_centers):\n",
    "    print(result_center)\n",
    "    for obj in result_clusters[index]:\n",
    "        errors += euclidean(obj, result_center)\n",
    "print()\n",
    "print(\"Custom alg: \" + str(errors))\n"
   ]
  },
  {
   "cell_type": "code",
   "execution_count": 12,
   "metadata": {},
   "outputs": [
    {
     "name": "stdout",
     "output_type": "stream",
     "text": [
      "[ 2.14698725  2.36855705]\n[ 12.58903336  12.31265332]\n[ 7.52752875  7.17835485]\n\nSKLearn alg: 276.5290312149307\n"
     ]
    }
   ],
   "source": [
    "from sklearn.cluster import KMeans\n",
    "sk_kmeans = KMeans(n_clusters=3, random_state=0).fit(objs)\n",
    "result_clusters = split_clusters(objs, 3, sk_kmeans.cluster_centers_, distance_fun=euclidean)\n",
    "errors = 0\n",
    "for index, result_center in enumerate(sk_kmeans.cluster_centers_):\n",
    "    print(result_center)\n",
    "    for obj in result_clusters[index]:\n",
    "        errors += euclidean(obj, result_center)\n",
    "print()\n",
    "print(\"SKLearn alg: \" + str(errors))\n"
   ]
  }
 ],
 "metadata": {
  "kernelspec": {
   "display_name": "Python 2",
   "language": "python",
   "name": "python2"
  },
  "language_info": {
   "codemirror_mode": {
    "name": "ipython",
    "version": 2
   },
   "file_extension": ".py",
   "mimetype": "text/x-python",
   "name": "python",
   "nbconvert_exporter": "python",
   "pygments_lexer": "ipython2",
   "version": "2.7.6"
  }
 },
 "nbformat": 4,
 "nbformat_minor": 0
}
